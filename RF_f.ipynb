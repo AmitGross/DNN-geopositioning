{
 "cells": [
  {
   "cell_type": "code",
   "execution_count": 1,
   "id": "5057d01b",
   "metadata": {},
   "outputs": [],
   "source": [
    "from sklearn import tree\n",
    "import numpy as np\n",
    "import pandas as pd\n",
    "import matplotlib.pyplot as plt\n",
    "from sklearn.model_selection import train_test_split\n",
    "from sklearn.metrics import mean_squared_error,mean_absolute_error\n",
    "from sklearn.ensemble import RandomForestRegressor\n",
    "from sklearn import metrics\n",
    "from sklearn.metrics import r2_score\n",
    "from sklearn.preprocessing import MinMaxScaler\n",
    "from sklearn.model_selection import GridSearchCV, RandomizedSearchCV\n"
   ]
  },
  {
   "cell_type": "code",
   "execution_count": 2,
   "id": "98e134ff",
   "metadata": {},
   "outputs": [],
   "source": [
    "#get Data\n",
    "\n",
    "y = pd.DataFrame(pd.read_excel('y.xlsx'))\n",
    "x = pd.DataFrame(pd.read_excel('x.xlsx'))"
   ]
  },
  {
   "cell_type": "code",
   "execution_count": 3,
   "id": "9cdf61d1",
   "metadata": {},
   "outputs": [],
   "source": [
    "x=x.iloc[:,:2333].values\n",
    "y_lon=y.iloc[:,0:1].values\n",
    "y_lat=y.iloc[:,1:2].values"
   ]
  },
  {
   "cell_type": "code",
   "execution_count": 4,
   "id": "e42098ef",
   "metadata": {},
   "outputs": [],
   "source": [
    "\n",
    "#transform\n",
    "longitude_scaler = MinMaxScaler()\n",
    "latitude_scaler = MinMaxScaler()\n",
    "x_scaler=MinMaxScaler()\n",
    "\n",
    "longitude_scaler.fit(y_lon)\n",
    "latitude_scaler.fit(y_lat)\n",
    "x_scaler.fit(x)\n",
    "\n",
    "y_lon_N=longitude_scaler.transform(y_lon)\n",
    "y_lat_N=latitude_scaler.transform(y_lat)\n",
    "X=x_scaler.transform(x)\n",
    "y=np.append(y_lon_N,y_lat_N,axis =1)\n"
   ]
  },
  {
   "cell_type": "code",
   "execution_count": 5,
   "id": "0217df2a",
   "metadata": {},
   "outputs": [],
   "source": [
    "from numpy import mean\n",
    "from numpy import std\n",
    "from sklearn.datasets import make_regression\n",
    "from sklearn.model_selection import cross_val_score\n",
    "from sklearn.model_selection import RepeatedKFold\n",
    "from sklearn.ensemble import RandomForestRegressor"
   ]
  },
  {
   "cell_type": "code",
   "execution_count": 6,
   "id": "e898b970",
   "metadata": {},
   "outputs": [],
   "source": [
    "#x_train, x_test, y_train, y_test = train_test_split(x_N, y_N, test_size=0.3) #, random_state=\n",
    "model = RandomForestRegressor(n_estimators=200, max_depth=None, n_jobs=2)\n",
    "\n",
    "\n",
    "\n"
   ]
  },
  {
   "cell_type": "code",
   "execution_count": 7,
   "id": "41a2c0d7",
   "metadata": {},
   "outputs": [
    {
     "name": "stdout",
     "output_type": "stream",
     "text": [
      "ds\n"
     ]
    }
   ],
   "source": [
    "print(\"ds\")"
   ]
  },
  {
   "cell_type": "code",
   "execution_count": 8,
   "id": "f7afcbc3",
   "metadata": {},
   "outputs": [
    {
     "name": "stdout",
     "output_type": "stream",
     "text": [
      "MAE: -0.063 (0.002)\n"
     ]
    }
   ],
   "source": [
    "cv = RepeatedKFold(n_splits=4, n_repeats=3, random_state=1)\n",
    "n_scores = cross_val_score(model, X, y, scoring='neg_mean_absolute_error', cv=cv, n_jobs=3, error_score='raise')\n",
    "# report performance\n",
    "print('MAE: %.3f (%.3f)' % (mean(n_scores), std(n_scores)))"
   ]
  },
  {
   "cell_type": "code",
   "execution_count": 9,
   "id": "4ca78bc2",
   "metadata": {},
   "outputs": [
    {
     "name": "stdout",
     "output_type": "stream",
     "text": [
      "ds\n"
     ]
    }
   ],
   "source": [
    "print(\"ds\")"
   ]
  },
  {
   "cell_type": "code",
   "execution_count": 11,
   "id": "f7aac38c",
   "metadata": {},
   "outputs": [
    {
     "ename": "NotFittedError",
     "evalue": "This RandomForestRegressor instance is not fitted yet. Call 'fit' with appropriate arguments before using this estimator.",
     "output_type": "error",
     "traceback": [
      "\u001b[1;31m---------------------------------------------------------------------------\u001b[0m",
      "\u001b[1;31mNotFittedError\u001b[0m                            Traceback (most recent call last)",
      "Input \u001b[1;32mIn [11]\u001b[0m, in \u001b[0;36m<cell line: 3>\u001b[1;34m()\u001b[0m\n\u001b[0;32m      1\u001b[0m \u001b[38;5;66;03m#rfc.fit(x_train, y_train)\u001b[39;00m\n\u001b[1;32m----> 3\u001b[0m predictions \u001b[38;5;241m=\u001b[39m \u001b[43mmodel\u001b[49m\u001b[38;5;241;43m.\u001b[39;49m\u001b[43mpredict\u001b[49m\u001b[43m(\u001b[49m\u001b[43mX\u001b[49m\u001b[43m)\u001b[49m\n",
      "File \u001b[1;32m~\\anaconda3\\lib\\site-packages\\sklearn\\ensemble\\_forest.py:969\u001b[0m, in \u001b[0;36mForestRegressor.predict\u001b[1;34m(self, X)\u001b[0m\n\u001b[0;32m    950\u001b[0m \u001b[38;5;28;01mdef\u001b[39;00m \u001b[38;5;21mpredict\u001b[39m(\u001b[38;5;28mself\u001b[39m, X):\n\u001b[0;32m    951\u001b[0m     \u001b[38;5;124;03m\"\"\"\u001b[39;00m\n\u001b[0;32m    952\u001b[0m \u001b[38;5;124;03m    Predict regression target for X.\u001b[39;00m\n\u001b[0;32m    953\u001b[0m \n\u001b[1;32m   (...)\u001b[0m\n\u001b[0;32m    967\u001b[0m \u001b[38;5;124;03m        The predicted values.\u001b[39;00m\n\u001b[0;32m    968\u001b[0m \u001b[38;5;124;03m    \"\"\"\u001b[39;00m\n\u001b[1;32m--> 969\u001b[0m     \u001b[43mcheck_is_fitted\u001b[49m\u001b[43m(\u001b[49m\u001b[38;5;28;43mself\u001b[39;49m\u001b[43m)\u001b[49m\n\u001b[0;32m    970\u001b[0m     \u001b[38;5;66;03m# Check data\u001b[39;00m\n\u001b[0;32m    971\u001b[0m     X \u001b[38;5;241m=\u001b[39m \u001b[38;5;28mself\u001b[39m\u001b[38;5;241m.\u001b[39m_validate_X_predict(X)\n",
      "File \u001b[1;32m~\\anaconda3\\lib\\site-packages\\sklearn\\utils\\validation.py:1222\u001b[0m, in \u001b[0;36mcheck_is_fitted\u001b[1;34m(estimator, attributes, msg, all_or_any)\u001b[0m\n\u001b[0;32m   1217\u001b[0m     fitted \u001b[38;5;241m=\u001b[39m [\n\u001b[0;32m   1218\u001b[0m         v \u001b[38;5;28;01mfor\u001b[39;00m v \u001b[38;5;129;01min\u001b[39;00m \u001b[38;5;28mvars\u001b[39m(estimator) \u001b[38;5;28;01mif\u001b[39;00m v\u001b[38;5;241m.\u001b[39mendswith(\u001b[38;5;124m\"\u001b[39m\u001b[38;5;124m_\u001b[39m\u001b[38;5;124m\"\u001b[39m) \u001b[38;5;129;01mand\u001b[39;00m \u001b[38;5;129;01mnot\u001b[39;00m v\u001b[38;5;241m.\u001b[39mstartswith(\u001b[38;5;124m\"\u001b[39m\u001b[38;5;124m__\u001b[39m\u001b[38;5;124m\"\u001b[39m)\n\u001b[0;32m   1219\u001b[0m     ]\n\u001b[0;32m   1221\u001b[0m \u001b[38;5;28;01mif\u001b[39;00m \u001b[38;5;129;01mnot\u001b[39;00m fitted:\n\u001b[1;32m-> 1222\u001b[0m     \u001b[38;5;28;01mraise\u001b[39;00m NotFittedError(msg \u001b[38;5;241m%\u001b[39m {\u001b[38;5;124m\"\u001b[39m\u001b[38;5;124mname\u001b[39m\u001b[38;5;124m\"\u001b[39m: \u001b[38;5;28mtype\u001b[39m(estimator)\u001b[38;5;241m.\u001b[39m\u001b[38;5;18m__name__\u001b[39m})\n",
      "\u001b[1;31mNotFittedError\u001b[0m: This RandomForestRegressor instance is not fitted yet. Call 'fit' with appropriate arguments before using this estimator."
     ]
    }
   ],
   "source": [
    "#rfc.fit(x_train, y_train)\n",
    "\n",
    "predictions = model.predict(X)\n"
   ]
  },
  {
   "cell_type": "code",
   "execution_count": 12,
   "id": "32ffc1df",
   "metadata": {},
   "outputs": [
    {
     "ename": "NameError",
     "evalue": "name 'predictions' is not defined",
     "output_type": "error",
     "traceback": [
      "\u001b[1;31m---------------------------------------------------------------------------\u001b[0m",
      "\u001b[1;31mNameError\u001b[0m                                 Traceback (most recent call last)",
      "Input \u001b[1;32mIn [12]\u001b[0m, in \u001b[0;36m<cell line: 2>\u001b[1;34m()\u001b[0m\n\u001b[0;32m      1\u001b[0m \u001b[38;5;66;03m#modeling for reverse transformation:\u001b[39;00m\n\u001b[1;32m----> 2\u001b[0m predict_lat\u001b[38;5;241m=\u001b[39m\u001b[43mpredictions\u001b[49m[:,\u001b[38;5;241m1\u001b[39m]\n\u001b[0;32m      3\u001b[0m predict_lon\u001b[38;5;241m=\u001b[39mpredictions[:,\u001b[38;5;241m0\u001b[39m]\n",
      "\u001b[1;31mNameError\u001b[0m: name 'predictions' is not defined"
     ]
    }
   ],
   "source": [
    "\n",
    "#modeling for reverse transformation:\n",
    "predict_lat=predictions[:,1]\n",
    "predict_lon=predictions[:,0]\n",
    "\n"
   ]
  },
  {
   "cell_type": "code",
   "execution_count": 13,
   "id": "e926de3f",
   "metadata": {},
   "outputs": [
    {
     "ename": "NameError",
     "evalue": "name 'predict_lon' is not defined",
     "output_type": "error",
     "traceback": [
      "\u001b[1;31m---------------------------------------------------------------------------\u001b[0m",
      "\u001b[1;31mNameError\u001b[0m                                 Traceback (most recent call last)",
      "Input \u001b[1;32mIn [13]\u001b[0m, in \u001b[0;36m<cell line: 2>\u001b[1;34m()\u001b[0m\n\u001b[0;32m      1\u001b[0m \u001b[38;5;66;03m#modeling final results\u001b[39;00m\n\u001b[1;32m----> 2\u001b[0m predictions\u001b[38;5;241m=\u001b[39mnp\u001b[38;5;241m.\u001b[39mappend(\u001b[43mpredict_lon\u001b[49m,predict_lat, axis \u001b[38;5;241m=\u001b[39m \u001b[38;5;241m0\u001b[39m)\n\u001b[0;32m      3\u001b[0m predictions\u001b[38;5;241m=\u001b[39m pd\u001b[38;5;241m.\u001b[39mDataFrame(predictions)\n",
      "\u001b[1;31mNameError\u001b[0m: name 'predict_lon' is not defined"
     ]
    }
   ],
   "source": [
    "\n",
    "#modeling final results\n",
    "predictions=np.append(predict_lon,predict_lat, axis = 0)\n",
    "predictions= pd.DataFrame(predictions)\n"
   ]
  },
  {
   "cell_type": "code",
   "execution_count": null,
   "id": "7bc08bb4",
   "metadata": {},
   "outputs": [],
   "source": [
    "y2=y_test[:,0].reshape((-1,1))\n",
    "y2.shape"
   ]
  },
  {
   "cell_type": "code",
   "execution_count": null,
   "id": "8d54e252",
   "metadata": {},
   "outputs": [],
   "source": [
    "\n",
    "\n",
    "#predicted locations\n",
    "plt.scatter(predict_lon,predict_lat)\n"
   ]
  },
  {
   "cell_type": "code",
   "execution_count": null,
   "id": "a3133deb",
   "metadata": {},
   "outputs": [],
   "source": [
    "\n",
    "#actual locations\n",
    "plt.scatter(y_lon,y_lat)\n"
   ]
  },
  {
   "cell_type": "code",
   "execution_count": null,
   "id": "5a86cc99",
   "metadata": {},
   "outputs": [],
   "source": [
    "pred_lon=longitude_scaler.inverse_transform(predict_lon.reshape(-1,1))\n",
    "pred_lat=latitude_scaler.inverse_transform(predict_lat.reshape(-1,1))\n",
    "lon_test=longitude_scaler.inverse_transform(y_test[:,0].reshape(-1,1))\n",
    "lat_test=latitude_scaler.inverse_transform(y_test[:,1].reshape(-1,1))\n",
    "raw_results=np.concatenate((lon_test,pred_lon,lat_test,pred_lat), axis=1)\n",
    "raw_results=pd.DataFrame(raw_results)\n",
    "raw_results.columns =['lon_test', 'pred_lon', 'lat_test', 'pred_lat']\n",
    "raw_results['lon_test']=raw_results['lon_test']*-1\n",
    "raw_results['pred_lon']=raw_results['pred_lon']*-1\n",
    "lon_inter=raw_results['lon_test'].min()\n",
    "raw_results['lon_test']=raw_results['lon_test']-lon_inter\n",
    "raw_results['pred_lon']=raw_results['pred_lon']-lon_inter\n",
    "lat_inter=raw_results['lat_test'].min()\n",
    "raw_results['lat_test']=raw_results['lat_test']-lat_inter\n",
    "raw_results['pred_lat']=raw_results['pred_lat']-lat_inter\n",
    "x_dif=raw_results['lon_test']-raw_results['pred_lon']\n",
    "y_dif=raw_results['lat_test']-raw_results['pred_lat']\n",
    "x_difs=x_dif*x_dif\n",
    "y_difs=y_dif*y_dif\n",
    "difs=(x_difs+y_difs)**(1/2)\n",
    "difsdf=pd.DataFrame(difs,columns=['diff'])\n",
    "results2=pd.concat([raw_results,difsdf],axis=1)\n",
    "difs_df=pd.DataFrame(difs,columns=[\"diff\"])\n",
    "difs_df_sorted=difs_df.sort_values('diff')\n"
   ]
  },
  {
   "cell_type": "code",
   "execution_count": null,
   "id": "2540cbc6",
   "metadata": {},
   "outputs": [],
   "source": [
    "difs_df_sorted.describe()"
   ]
  },
  {
   "cell_type": "code",
   "execution_count": null,
   "id": "0151f555",
   "metadata": {},
   "outputs": [],
   "source": [
    "difs_df_sorted.quantile(q=0.8)"
   ]
  },
  {
   "cell_type": "code",
   "execution_count": null,
   "id": "7e1517aa",
   "metadata": {},
   "outputs": [],
   "source": [
    "difs_df_sorted.quantile(q=0.85)"
   ]
  },
  {
   "cell_type": "code",
   "execution_count": null,
   "id": "f7806b68",
   "metadata": {},
   "outputs": [],
   "source": [
    "difs_df_sorted.quantile(q=0.9)"
   ]
  },
  {
   "cell_type": "code",
   "execution_count": null,
   "id": "8d1ad80e",
   "metadata": {},
   "outputs": [],
   "source": [
    "difs_df_sorted.median()"
   ]
  },
  {
   "cell_type": "code",
   "execution_count": null,
   "id": "116c3fb0",
   "metadata": {},
   "outputs": [],
   "source": []
  },
  {
   "cell_type": "code",
   "execution_count": null,
   "id": "b9503881",
   "metadata": {},
   "outputs": [],
   "source": []
  },
  {
   "cell_type": "code",
   "execution_count": null,
   "id": "7012e604",
   "metadata": {},
   "outputs": [],
   "source": []
  },
  {
   "cell_type": "code",
   "execution_count": null,
   "id": "c08c97cd",
   "metadata": {},
   "outputs": [],
   "source": []
  },
  {
   "cell_type": "code",
   "execution_count": null,
   "id": "91046fda",
   "metadata": {},
   "outputs": [],
   "source": []
  }
 ],
 "metadata": {
  "kernelspec": {
   "display_name": "Python 3 (ipykernel)",
   "language": "python",
   "name": "python3"
  },
  "language_info": {
   "codemirror_mode": {
    "name": "ipython",
    "version": 3
   },
   "file_extension": ".py",
   "mimetype": "text/x-python",
   "name": "python",
   "nbconvert_exporter": "python",
   "pygments_lexer": "ipython3",
   "version": "3.9.12"
  }
 },
 "nbformat": 4,
 "nbformat_minor": 5
}
