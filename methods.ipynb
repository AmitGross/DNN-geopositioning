{
 "cells": [
  {
   "cell_type": "code",
   "execution_count": null,
   "id": "cb598bf3",
   "metadata": {},
   "outputs": [],
   "source": [
    "import numpy as np\n",
    "import pandas as pd\n",
    "import matplotlib.pyplot as plt\n",
    "from sklearn.preprocessing import MinMaxScaler\n",
    "import pickle\n"
   ]
  },
  {
   "cell_type": "code",
   "execution_count": null,
   "id": "d632d92f",
   "metadata": {},
   "outputs": [],
   "source": [
    "def unpickling (file):\n",
    "    with open(file, 'rb') as f:\n",
    "        data = pickle.load(f)\n",
    "    x=pd.concat([data[0],data[1]], axis = 0)\n",
    "    y=pd.concat([data[2],data[3]], axis = 0) \n",
    "    return x,y"
   ]
  },
  {
   "cell_type": "code",
   "execution_count": null,
   "id": "c234969a",
   "metadata": {},
   "outputs": [],
   "source": [
    "def fetch_data(Xxlsx_file,Yxlsx_file,Xrange,LONrange,LATrange):\n",
    "    x = pd.DataFrame(pd.read_excel(f\"{Xxlsx_file}.xlsx\"))\n",
    "    y = pd.DataFrame(pd.read_excel(f\"{Yxlsx_file}.xlsx\"))\n",
    "    return x.iloc[:,:Xrange].values, y.iloc[:,LONrange-1:LONrange].values, y.iloc[:,LATrange-1:LATrange].values\n",
    "\n",
    "\n",
    "\n",
    "\n",
    "def Scaling(Variable):\n",
    "    scaler=MinMaxScaler()\n",
    "    scaler.fit(Variable)\n",
    "    return scaler, scaler.transform(Variable)\n",
    "\n",
    "\n",
    "def inv_scaler(scaler, Variable):\n",
    "    return scaler.inverse_transform(Variable.reshape(-1,1))"
   ]
  },
  {
   "cell_type": "code",
   "execution_count": null,
   "id": "10524f51",
   "metadata": {},
   "outputs": [],
   "source": []
  },
  {
   "cell_type": "code",
   "execution_count": null,
   "id": "e6f76e1d",
   "metadata": {},
   "outputs": [],
   "source": [
    "def calculate_diff(lon_test,pred_lon,lat_test,pred_lat):\n",
    "    raw_results=np.concatenate((lon_test,pred_lon,lat_test,pred_lat), axis=1)\n",
    "    raw_results=pd.DataFrame(raw_results)\n",
    "    raw_results.columns =['lon_test', 'pred_lon', 'lat_test', 'pred_lat']\n",
    "    #-------------------------------------------------------------------\n",
    "    \n",
    "    lon_inter=raw_results['lon_test'].min()\n",
    "\n",
    "    raw_results['lon_test']=raw_results['lon_test']-lon_inter\n",
    "    raw_results['pred_lon']=raw_results['pred_lon']-lon_inter\n",
    "\n",
    "    #                   ------------------\n",
    "    lat_inter=raw_results['lat_test'].min()\n",
    "\n",
    "    raw_results['lat_test']=raw_results['lat_test']-lat_inter\n",
    "    raw_results['pred_lat']=raw_results['pred_lat']-lat_inter\n",
    "    \n",
    "    #--------------------------------------------------------------------\n",
    "        \n",
    "    x_dif=raw_results['lon_test']-raw_results['pred_lon']\n",
    "    y_dif=raw_results['lat_test']-raw_results['pred_lat']\n",
    "    \n",
    "    x_difs=x_dif*x_dif\n",
    "    y_difs=y_dif*y_dif\n",
    "    difs=(x_difs+y_difs)**(1/2)\n",
    "    difsdf=pd.DataFrame(difs,columns=['diff'])\n",
    "    results2=pd.concat([raw_results,difsdf],axis=1)\n",
    "\n",
    "    #-----------------------------\n",
    "    difs_df=pd.DataFrame(difs,columns=[\"diff\"])\n",
    "    difs_df_sorted=difs_df.sort_values('diff')\n",
    "\n",
    "    return results2, difs_df_sorted\n",
    "    "
   ]
  },
  {
   "cell_type": "code",
   "execution_count": null,
   "id": "0ad6615c",
   "metadata": {},
   "outputs": [],
   "source": []
  },
  {
   "cell_type": "code",
   "execution_count": null,
   "id": "74fe6f31",
   "metadata": {},
   "outputs": [],
   "source": [
    "def lr_time_based_decay(epoch, lr):\n",
    "    decay = initial_learning_rate / epochs\n",
    "    return lr * 1 / (1 + decay * epoch)\n",
    "\n",
    "#step decay\n",
    "def lr_step_decay(epoch, lr):\n",
    "    drop_rate = 0.5\n",
    "    epochs_drop = 10.0\n",
    "    return initial_learning_rate * math.pow(drop_rate, math.floor(epoch/epochs_drop))\n",
    "\n",
    "\n",
    "#exponential\n",
    "def lr_exp_decay(epoch, lr):\n",
    "    k = 0.1\n",
    "    return initial_learning_rate * math.exp(-k*epoch)\n",
    "\n"
   ]
  },
  {
   "cell_type": "code",
   "execution_count": null,
   "id": "948a1f05",
   "metadata": {},
   "outputs": [],
   "source": []
  }
 ],
 "metadata": {
  "kernelspec": {
   "display_name": "Python 3 (ipykernel)",
   "language": "python",
   "name": "python3"
  },
  "language_info": {
   "codemirror_mode": {
    "name": "ipython",
    "version": 3
   },
   "file_extension": ".py",
   "mimetype": "text/x-python",
   "name": "python",
   "nbconvert_exporter": "python",
   "pygments_lexer": "ipython3",
   "version": "3.9.12"
  }
 },
 "nbformat": 4,
 "nbformat_minor": 5
}
